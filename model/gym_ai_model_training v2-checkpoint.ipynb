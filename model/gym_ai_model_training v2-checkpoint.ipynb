{
 "cells": [
  {
   "cell_type": "markdown",
   "id": "b4ab8ded-fb96-4549-aab8-835bd1cec984",
   "metadata": {},
   "source": [
    "# Imports"
   ]
  },
  {
   "cell_type": "code",
   "execution_count": 1,
   "id": "24574ec4-099d-45eb-9d1e-302bd377ec37",
   "metadata": {
    "tags": []
   },
   "outputs": [],
   "source": [
    "import pandas as pd\n",
    "import numpy as np\n",
    "import keras\n",
    "import seaborn as sns\n",
    "from matplotlib import  pyplot as plt\n",
    "\n",
    "from sklearn.model_selection import train_test_split\n",
    "\n",
    "from sklearn import tree\n",
    "from sklearn.tree import DecisionTreeClassifier\n",
    "from sklearn.metrics import accuracy_score, classification_report, confusion_matrix\n",
    "from sklearn.model_selection import GridSearchCV\n",
    "from sklearn.ensemble import RandomForestClassifier\n",
    "\n",
    "\n",
    "from sklearn.preprocessing import LabelEncoder, OneHotEncoder\n",
    "from keras.models import Sequential\n",
    "from keras.layers import Dense\n",
    "from keras.utils import to_categorical"
   ]
  },
  {
   "cell_type": "markdown",
   "id": "a25d927a-7a90-49b2-9cf9-4be542275af9",
   "metadata": {},
   "source": [
    "# Data set Discovery and usage"
   ]
  },
  {
   "cell_type": "code",
   "execution_count": 2,
   "id": "af758bda-e2e0-444d-9e32-90b4eac9f471",
   "metadata": {
    "tags": []
   },
   "outputs": [],
   "source": [
    "m_angels_df = pd.read_csv(r\"C:\\Users\\gaith\\Desktop\\Final Project23-24\\Datasets\\Physical Exercise RecognitionTime Series Dataset\\archive\\angles.csv\")\n",
    "m_labels_df = pd.read_csv(r\"C:\\Users\\gaith\\Desktop\\Final Project23-24\\Datasets\\Physical Exercise RecognitionTime Series Dataset\\archive\\labels.csv\")\n",
    "full_df = pd.merge(m_angels_df, m_labels_df, how='inner', on='vid_id')\n",
    "full_df.rename({'class': 'ml_class'}, axis=1, inplace=True)"
   ]
  },
  {
   "cell_type": "code",
   "execution_count": 3,
   "id": "437aac28-4aa9-412d-a3f7-2cc5ca35ea80",
   "metadata": {
    "tags": []
   },
   "outputs": [
    {
     "data": {
      "text/html": [
       "<div>\n",
       "<style scoped>\n",
       "    .dataframe tbody tr th:only-of-type {\n",
       "        vertical-align: middle;\n",
       "    }\n",
       "\n",
       "    .dataframe tbody tr th {\n",
       "        vertical-align: top;\n",
       "    }\n",
       "\n",
       "    .dataframe thead th {\n",
       "        text-align: right;\n",
       "    }\n",
       "</style>\n",
       "<table border=\"1\" class=\"dataframe\">\n",
       "  <thead>\n",
       "    <tr style=\"text-align: right;\">\n",
       "      <th></th>\n",
       "      <th>vid_id</th>\n",
       "      <th>frame_order</th>\n",
       "      <th>right_elbow_right_shoulder_right_hip</th>\n",
       "      <th>left_elbow_left_shoulder_left_hip</th>\n",
       "      <th>right_knee_mid_hip_left_knee</th>\n",
       "      <th>right_hip_right_knee_right_ankle</th>\n",
       "      <th>left_hip_left_knee_left_ankle</th>\n",
       "      <th>right_wrist_right_elbow_right_shoulder</th>\n",
       "      <th>left_wrist_left_elbow_left_shoulder</th>\n",
       "      <th>ml_class</th>\n",
       "    </tr>\n",
       "  </thead>\n",
       "  <tbody>\n",
       "    <tr>\n",
       "      <th>0</th>\n",
       "      <td>0</td>\n",
       "      <td>0</td>\n",
       "      <td>16.926802</td>\n",
       "      <td>7.667874</td>\n",
       "      <td>18.982162</td>\n",
       "      <td>112.747505</td>\n",
       "      <td>112.62553</td>\n",
       "      <td>112.099300</td>\n",
       "      <td>101.05565</td>\n",
       "      <td>jumping_jack</td>\n",
       "    </tr>\n",
       "    <tr>\n",
       "      <th>1</th>\n",
       "      <td>0</td>\n",
       "      <td>1</td>\n",
       "      <td>14.199318</td>\n",
       "      <td>8.954973</td>\n",
       "      <td>18.966124</td>\n",
       "      <td>109.707190</td>\n",
       "      <td>109.76263</td>\n",
       "      <td>110.645454</td>\n",
       "      <td>102.00027</td>\n",
       "      <td>jumping_jack</td>\n",
       "    </tr>\n",
       "    <tr>\n",
       "      <th>2</th>\n",
       "      <td>0</td>\n",
       "      <td>2</td>\n",
       "      <td>18.065800</td>\n",
       "      <td>10.315741</td>\n",
       "      <td>17.527954</td>\n",
       "      <td>114.562100</td>\n",
       "      <td>112.08965</td>\n",
       "      <td>113.340350</td>\n",
       "      <td>104.09502</td>\n",
       "      <td>jumping_jack</td>\n",
       "    </tr>\n",
       "  </tbody>\n",
       "</table>\n",
       "</div>"
      ],
      "text/plain": [
       "   vid_id  frame_order  right_elbow_right_shoulder_right_hip  \\\n",
       "0       0            0                             16.926802   \n",
       "1       0            1                             14.199318   \n",
       "2       0            2                             18.065800   \n",
       "\n",
       "   left_elbow_left_shoulder_left_hip  right_knee_mid_hip_left_knee  \\\n",
       "0                           7.667874                     18.982162   \n",
       "1                           8.954973                     18.966124   \n",
       "2                          10.315741                     17.527954   \n",
       "\n",
       "   right_hip_right_knee_right_ankle  left_hip_left_knee_left_ankle  \\\n",
       "0                        112.747505                      112.62553   \n",
       "1                        109.707190                      109.76263   \n",
       "2                        114.562100                      112.08965   \n",
       "\n",
       "   right_wrist_right_elbow_right_shoulder  \\\n",
       "0                              112.099300   \n",
       "1                              110.645454   \n",
       "2                              113.340350   \n",
       "\n",
       "   left_wrist_left_elbow_left_shoulder      ml_class  \n",
       "0                            101.05565  jumping_jack  \n",
       "1                            102.00027  jumping_jack  \n",
       "2                            104.09502  jumping_jack  "
      ]
     },
     "execution_count": 3,
     "metadata": {},
     "output_type": "execute_result"
    }
   ],
   "source": [
    "full_df.head(3)"
   ]
  },
  {
   "cell_type": "code",
   "execution_count": 4,
   "id": "9b223b39-db35-4b32-ba58-bc76869d64eb",
   "metadata": {
    "tags": []
   },
   "outputs": [
    {
     "name": "stdout",
     "output_type": "stream",
     "text": [
      "(83922, 10)\n"
     ]
    }
   ],
   "source": [
    "print(full_df.shape)"
   ]
  },
  {
   "cell_type": "code",
   "execution_count": 5,
   "id": "c16b3289-c93c-4ecb-b22c-49374541a3b1",
   "metadata": {
    "tags": []
   },
   "outputs": [
    {
     "name": "stdout",
     "output_type": "stream",
     "text": [
      "<class 'pandas.core.frame.DataFrame'>\n",
      "RangeIndex: 83922 entries, 0 to 83921\n",
      "Data columns (total 10 columns):\n",
      " #   Column                                  Non-Null Count  Dtype  \n",
      "---  ------                                  --------------  -----  \n",
      " 0   vid_id                                  83922 non-null  int64  \n",
      " 1   frame_order                             83922 non-null  int64  \n",
      " 2   right_elbow_right_shoulder_right_hip    83922 non-null  float64\n",
      " 3   left_elbow_left_shoulder_left_hip       83922 non-null  float64\n",
      " 4   right_knee_mid_hip_left_knee            83922 non-null  float64\n",
      " 5   right_hip_right_knee_right_ankle        83922 non-null  float64\n",
      " 6   left_hip_left_knee_left_ankle           83922 non-null  float64\n",
      " 7   right_wrist_right_elbow_right_shoulder  83922 non-null  float64\n",
      " 8   left_wrist_left_elbow_left_shoulder     83922 non-null  float64\n",
      " 9   ml_class                                83922 non-null  object \n",
      "dtypes: float64(7), int64(2), object(1)\n",
      "memory usage: 6.4+ MB\n"
     ]
    }
   ],
   "source": [
    "full_df.info()"
   ]
  },
  {
   "cell_type": "code",
   "execution_count": 6,
   "id": "f79472c4-cd6c-4fd3-ab80-37acbdd72a04",
   "metadata": {
    "tags": []
   },
   "outputs": [
    {
     "data": {
      "text/html": [
       "<div>\n",
       "<style scoped>\n",
       "    .dataframe tbody tr th:only-of-type {\n",
       "        vertical-align: middle;\n",
       "    }\n",
       "\n",
       "    .dataframe tbody tr th {\n",
       "        vertical-align: top;\n",
       "    }\n",
       "\n",
       "    .dataframe thead th {\n",
       "        text-align: right;\n",
       "    }\n",
       "</style>\n",
       "<table border=\"1\" class=\"dataframe\">\n",
       "  <thead>\n",
       "    <tr style=\"text-align: right;\">\n",
       "      <th></th>\n",
       "      <th>vid_id</th>\n",
       "      <th>frame_order</th>\n",
       "      <th>right_elbow_right_shoulder_right_hip</th>\n",
       "      <th>left_elbow_left_shoulder_left_hip</th>\n",
       "      <th>right_knee_mid_hip_left_knee</th>\n",
       "      <th>right_hip_right_knee_right_ankle</th>\n",
       "      <th>left_hip_left_knee_left_ankle</th>\n",
       "      <th>right_wrist_right_elbow_right_shoulder</th>\n",
       "      <th>left_wrist_left_elbow_left_shoulder</th>\n",
       "    </tr>\n",
       "  </thead>\n",
       "  <tbody>\n",
       "    <tr>\n",
       "      <th>count</th>\n",
       "      <td>83922.000000</td>\n",
       "      <td>83922.000000</td>\n",
       "      <td>83922.000000</td>\n",
       "      <td>83922.000000</td>\n",
       "      <td>83922.000000</td>\n",
       "      <td>83922.000000</td>\n",
       "      <td>83922.000000</td>\n",
       "      <td>83922.000000</td>\n",
       "      <td>83922.000000</td>\n",
       "    </tr>\n",
       "    <tr>\n",
       "      <th>mean</th>\n",
       "      <td>228.045638</td>\n",
       "      <td>114.735457</td>\n",
       "      <td>79.871557</td>\n",
       "      <td>79.763790</td>\n",
       "      <td>51.818013</td>\n",
       "      <td>124.888594</td>\n",
       "      <td>123.162877</td>\n",
       "      <td>127.323886</td>\n",
       "      <td>125.414761</td>\n",
       "    </tr>\n",
       "    <tr>\n",
       "      <th>std</th>\n",
       "      <td>129.943299</td>\n",
       "      <td>76.217246</td>\n",
       "      <td>42.036016</td>\n",
       "      <td>41.420997</td>\n",
       "      <td>29.674522</td>\n",
       "      <td>41.617279</td>\n",
       "      <td>41.712136</td>\n",
       "      <td>28.290486</td>\n",
       "      <td>29.869885</td>\n",
       "    </tr>\n",
       "    <tr>\n",
       "      <th>min</th>\n",
       "      <td>0.000000</td>\n",
       "      <td>0.000000</td>\n",
       "      <td>0.560928</td>\n",
       "      <td>0.490588</td>\n",
       "      <td>0.120331</td>\n",
       "      <td>0.510141</td>\n",
       "      <td>1.827777</td>\n",
       "      <td>1.055918</td>\n",
       "      <td>2.971638</td>\n",
       "    </tr>\n",
       "    <tr>\n",
       "      <th>25%</th>\n",
       "      <td>115.000000</td>\n",
       "      <td>51.000000</td>\n",
       "      <td>46.220257</td>\n",
       "      <td>47.081918</td>\n",
       "      <td>27.473099</td>\n",
       "      <td>93.231241</td>\n",
       "      <td>91.618758</td>\n",
       "      <td>110.266963</td>\n",
       "      <td>106.373474</td>\n",
       "    </tr>\n",
       "    <tr>\n",
       "      <th>50%</th>\n",
       "      <td>231.000000</td>\n",
       "      <td>105.000000</td>\n",
       "      <td>75.508880</td>\n",
       "      <td>75.491405</td>\n",
       "      <td>47.130147</td>\n",
       "      <td>134.741395</td>\n",
       "      <td>132.527290</td>\n",
       "      <td>130.403340</td>\n",
       "      <td>129.529280</td>\n",
       "    </tr>\n",
       "    <tr>\n",
       "      <th>75%</th>\n",
       "      <td>341.000000</td>\n",
       "      <td>170.000000</td>\n",
       "      <td>111.004510</td>\n",
       "      <td>110.110010</td>\n",
       "      <td>71.133823</td>\n",
       "      <td>161.567255</td>\n",
       "      <td>159.908057</td>\n",
       "      <td>148.764080</td>\n",
       "      <td>148.787172</td>\n",
       "    </tr>\n",
       "    <tr>\n",
       "      <th>max</th>\n",
       "      <td>447.000000</td>\n",
       "      <td>300.000000</td>\n",
       "      <td>179.794400</td>\n",
       "      <td>179.903080</td>\n",
       "      <td>177.010220</td>\n",
       "      <td>179.886350</td>\n",
       "      <td>179.901080</td>\n",
       "      <td>179.868770</td>\n",
       "      <td>179.690980</td>\n",
       "    </tr>\n",
       "  </tbody>\n",
       "</table>\n",
       "</div>"
      ],
      "text/plain": [
       "             vid_id   frame_order  right_elbow_right_shoulder_right_hip  \\\n",
       "count  83922.000000  83922.000000                          83922.000000   \n",
       "mean     228.045638    114.735457                             79.871557   \n",
       "std      129.943299     76.217246                             42.036016   \n",
       "min        0.000000      0.000000                              0.560928   \n",
       "25%      115.000000     51.000000                             46.220257   \n",
       "50%      231.000000    105.000000                             75.508880   \n",
       "75%      341.000000    170.000000                            111.004510   \n",
       "max      447.000000    300.000000                            179.794400   \n",
       "\n",
       "       left_elbow_left_shoulder_left_hip  right_knee_mid_hip_left_knee  \\\n",
       "count                       83922.000000                  83922.000000   \n",
       "mean                           79.763790                     51.818013   \n",
       "std                            41.420997                     29.674522   \n",
       "min                             0.490588                      0.120331   \n",
       "25%                            47.081918                     27.473099   \n",
       "50%                            75.491405                     47.130147   \n",
       "75%                           110.110010                     71.133823   \n",
       "max                           179.903080                    177.010220   \n",
       "\n",
       "       right_hip_right_knee_right_ankle  left_hip_left_knee_left_ankle  \\\n",
       "count                      83922.000000                   83922.000000   \n",
       "mean                         124.888594                     123.162877   \n",
       "std                           41.617279                      41.712136   \n",
       "min                            0.510141                       1.827777   \n",
       "25%                           93.231241                      91.618758   \n",
       "50%                          134.741395                     132.527290   \n",
       "75%                          161.567255                     159.908057   \n",
       "max                          179.886350                     179.901080   \n",
       "\n",
       "       right_wrist_right_elbow_right_shoulder  \\\n",
       "count                            83922.000000   \n",
       "mean                               127.323886   \n",
       "std                                 28.290486   \n",
       "min                                  1.055918   \n",
       "25%                                110.266963   \n",
       "50%                                130.403340   \n",
       "75%                                148.764080   \n",
       "max                                179.868770   \n",
       "\n",
       "       left_wrist_left_elbow_left_shoulder  \n",
       "count                         83922.000000  \n",
       "mean                            125.414761  \n",
       "std                              29.869885  \n",
       "min                               2.971638  \n",
       "25%                             106.373474  \n",
       "50%                             129.529280  \n",
       "75%                             148.787172  \n",
       "max                             179.690980  "
      ]
     },
     "execution_count": 6,
     "metadata": {},
     "output_type": "execute_result"
    }
   ],
   "source": [
    "full_df.describe()"
   ]
  },
  {
   "cell_type": "code",
   "execution_count": null,
   "id": "5098175b-a6e5-4386-8571-231e8fd1d119",
   "metadata": {},
   "outputs": [],
   "source": []
  },
  {
   "cell_type": "code",
   "execution_count": 7,
   "id": "d38923c8-5d4e-450f-a4bf-65537b6bbfbe",
   "metadata": {
    "tags": []
   },
   "outputs": [
    {
     "data": {
      "text/plain": [
       "([<matplotlib.patches.Wedge at 0x26a7922e3d0>,\n",
       "  <matplotlib.patches.Wedge at 0x26a79f18a90>,\n",
       "  <matplotlib.patches.Wedge at 0x26a79f1a8d0>,\n",
       "  <matplotlib.patches.Wedge at 0x26a79f28750>,\n",
       "  <matplotlib.patches.Wedge at 0x26a79f2a490>],\n",
       " [Text(0.8286541325539014, 0.7234171193725936, 'pull_up'),\n",
       "  Text(-0.5954478796133257, 0.9249009799237942, 'jumping_jack'),\n",
       "  Text(-1.0300764870900674, -0.38593060353408926, 'push_up'),\n",
       "  Text(0.06794180198233647, -1.0978997729954194, 'situp'),\n",
       "  Text(0.9941157075584489, -0.47088635570120807, 'squat')],\n",
       " [Text(0.4519931632112189, 0.39459115602141465, '22.85'),\n",
       "  Text(-0.3247897525163594, 0.5044914435947967, '22.52'),\n",
       "  Text(-0.5618599020491276, -0.21050760192768503, '20.69'),\n",
       "  Text(0.03705916471763807, -0.598854421633865, '19.87'),\n",
       "  Text(0.5422449313955175, -0.25684710310974984, '14.08')])"
      ]
     },
     "execution_count": 7,
     "metadata": {},
     "output_type": "execute_result"
    },
    {
     "data": {
      "image/png": "[encoded data removed]",
      "text/plain": [
       "<Figure size 640x480 with 1 Axes>"
      ]
     },
     "metadata": {},
     "output_type": "display_data"
    }
   ],
   "source": [
    "ml_class_cnt_ser = full_df.ml_class.value_counts()\n",
    "# full_df.groupby('ml_class').count()\n",
    "plt.pie(ml_class_cnt_ser.values.tolist(), labels=ml_class_cnt_ser.index.tolist(), autopct='%.2f')"
   ]
  },
  {
   "cell_type": "markdown",
   "id": "89a739c2-fd5c-461f-b1bd-1bbdb97d88c3",
   "metadata": {},
   "source": [
    "# Model Training"
   ]
  },
  {
   "cell_type": "code",
   "execution_count": 8,
   "id": "b979fe0d-6c2a-4001-b26f-d10a63a6664e",
   "metadata": {
    "tags": []
   },
   "outputs": [],
   "source": [
    "RND_STATE = 125\n",
    "\n",
    "IDX_COLS = ['vid_id', 'frame_order']\n",
    "   \n",
    "FEATURE_COLS = ['right_elbow_right_shoulder_right_hip', \n",
    "                'left_elbow_left_shoulder_left_hip', 'right_knee_mid_hip_left_knee', \n",
    "                'right_hip_right_knee_right_ankle', 'left_hip_left_knee_left_ankle',\n",
    "                'right_wrist_right_elbow_right_shoulder', 'left_wrist_left_elbow_left_shoulder']\n",
    "\n",
    "LABEL_COLS = ['ml_class']\n",
    "\n",
    "x_train, x_test, y_train, y_test = train_test_split(\n",
    "    full_df[FEATURE_COLS].values,\n",
    "    full_df[LABEL_COLS].values, test_size=0.2,\n",
    "    random_state=RND_STATE)"
   ]
  },
  {
   "cell_type": "markdown",
   "id": "63e816e7-ea44-4a0b-874f-df93dfc750ae",
   "metadata": {},
   "source": [
    "## Decision Tree "
   ]
  },
  {
   "cell_type": "code",
   "execution_count": 9,
   "id": "078a8dec-a232-4ab6-9a4f-5c08c54d5b90",
   "metadata": {
    "tags": []
   },
   "outputs": [
    {
     "data": {
      "text/html": [
       "<style>#sk-container-id-1 {color: black;}#sk-container-id-1 pre{padding: 0;}#sk-container-id-1 div.sk-toggleable {background-color: white;}#sk-container-id-1 label.sk-toggleable__label {cursor: pointer;display: block;width: 100%;margin-bottom: 0;padding: 0.3em;box-sizing: border-box;text-align: center;}#sk-container-id-1 label.sk-toggleable__label-arrow:before {content: \"▸\";float: left;margin-right: 0.25em;color: #696969;}#sk-container-id-1 label.sk-toggleable__label-arrow:hover:before {color: black;}#sk-container-id-1 div.sk-estimator:hover label.sk-toggleable__label-arrow:before {color: black;}#sk-container-id-1 div.sk-toggleable__content {max-height: 0;max-width: 0;overflow: hidden;text-align: left;background-color: #f0f8ff;}#sk-container-id-1 div.sk-toggleable__content pre {margin: 0.2em;color: black;border-radius: 0.25em;background-color: #f0f8ff;}#sk-container-id-1 input.sk-toggleable__control:checked~div.sk-toggleable__content {max-height: 200px;max-width: 100%;overflow: auto;}#sk-container-id-1 input.sk-toggleable__control:checked~label.sk-toggleable__label-arrow:before {content: \"▾\";}#sk-container-id-1 div.sk-estimator input.sk-toggleable__control:checked~label.sk-toggleable__label {background-color: #d4ebff;}#sk-container-id-1 div.sk-label input.sk-toggleable__control:checked~label.sk-toggleable__label {background-color: #d4ebff;}#sk-container-id-1 input.sk-hidden--visually {border: 0;clip: rect(1px 1px 1px 1px);clip: rect(1px, 1px, 1px, 1px);height: 1px;margin: -1px;overflow: hidden;padding: 0;position: absolute;width: 1px;}#sk-container-id-1 div.sk-estimator {font-family: monospace;background-color: #f0f8ff;border: 1px dotted black;border-radius: 0.25em;box-sizing: border-box;margin-bottom: 0.5em;}#sk-container-id-1 div.sk-estimator:hover {background-color: #d4ebff;}#sk-container-id-1 div.sk-parallel-item::after {content: \"\";width: 100%;border-bottom: 1px solid gray;flex-grow: 1;}#sk-container-id-1 div.sk-label:hover label.sk-toggleable__label {background-color: #d4ebff;}#sk-container-id-1 div.sk-serial::before {content: \"\";position: absolute;border-left: 1px solid gray;box-sizing: border-box;top: 0;bottom: 0;left: 50%;z-index: 0;}#sk-container-id-1 div.sk-serial {display: flex;flex-direction: column;align-items: center;background-color: white;padding-right: 0.2em;padding-left: 0.2em;position: relative;}#sk-container-id-1 div.sk-item {position: relative;z-index: 1;}#sk-container-id-1 div.sk-parallel {display: flex;align-items: stretch;justify-content: center;background-color: white;position: relative;}#sk-container-id-1 div.sk-item::before, #sk-container-id-1 div.sk-parallel-item::before {content: \"\";position: absolute;border-left: 1px solid gray;box-sizing: border-box;top: 0;bottom: 0;left: 50%;z-index: -1;}#sk-container-id-1 div.sk-parallel-item {display: flex;flex-direction: column;z-index: 1;position: relative;background-color: white;}#sk-container-id-1 div.sk-parallel-item:first-child::after {align-self: flex-end;width: 50%;}#sk-container-id-1 div.sk-parallel-item:last-child::after {align-self: flex-start;width: 50%;}#sk-container-id-1 div.sk-parallel-item:only-child::after {width: 0;}#sk-container-id-1 div.sk-dashed-wrapped {border: 1px dashed gray;margin: 0 0.4em 0.5em 0.4em;box-sizing: border-box;padding-bottom: 0.4em;background-color: white;}#sk-container-id-1 div.sk-label label {font-family: monospace;font-weight: bold;display: inline-block;line-height: 1.2em;}#sk-container-id-1 div.sk-label-container {text-align: center;}#sk-container-id-1 div.sk-container {/* jupyter's `normalize.less` sets `[hidden] { display: none; }` but bootstrap.min.css set `[hidden] { display: none !important; }` so we also need the `!important` here to be able to override the default hidden behavior on the sphinx rendered scikit-learn.org. See: https://github.com/scikit-learn/scikit-learn/issues/21755 */display: inline-block !important;position: relative;}#sk-container-id-1 div.sk-text-repr-fallback {display: none;}</style><div id=\"sk-container-id-1\" class=\"sk-top-container\"><div class=\"sk-text-repr-fallback\"><pre>DecisionTreeClassifier(max_depth=16, random_state=125)</pre><b>In a Jupyter environment, please rerun this cell to show the HTML representation or trust the notebook. <br />On GitHub, the HTML representation is unable to render, please try loading this page with nbviewer.org.</b></div><div class=\"sk-container\" hidden><div class=\"sk-item\"><div class=\"sk-estimator sk-toggleable\"><input class=\"sk-toggleable__control sk-hidden--visually\" id=\"sk-estimator-id-1\" type=\"checkbox\" checked><label for=\"sk-estimator-id-1\" class=\"sk-toggleable__label sk-toggleable__label-arrow\">DecisionTreeClassifier</label><div class=\"sk-toggleable__content\"><pre>DecisionTreeClassifier(max_depth=16, random_state=125)</pre></div></div></div></div></div>"
      ],
      "text/plain": [
       "DecisionTreeClassifier(max_depth=16, random_state=125)"
      ]
     },
     "execution_count": 9,
     "metadata": {},
     "output_type": "execute_result"
    }
   ],
   "source": [
    "clf = DecisionTreeClassifier(random_state=RND_STATE, max_depth=16)\n",
    "clf.fit(x_train, y_train)"
   ]
  },
  {
   "cell_type": "code",
   "execution_count": 10,
   "id": "24b26bd0-5062-4adb-906c-0c337b94b60e",
   "metadata": {
    "tags": []
   },
   "outputs": [
    {
     "name": "stdout",
     "output_type": "stream",
     "text": [
      "Test accuracy: 0.6819\n",
      "Classification Report:\n",
      "              precision    recall  f1-score   support\n",
      "\n",
      "jumping_jack       0.65      0.69      0.67      3771\n",
      "     pull_up       0.65      0.61      0.63      3798\n",
      "     push_up       0.74      0.80      0.77      3474\n",
      "       situp       0.75      0.74      0.74      3366\n",
      "       squat       0.60      0.54      0.57      2376\n",
      "\n",
      "    accuracy                           0.68     16785\n",
      "   macro avg       0.68      0.67      0.67     16785\n",
      "weighted avg       0.68      0.68      0.68     16785\n",
      "\n"
     ]
    }
   ],
   "source": [
    "y_pred = clf.predict(x_test)\n",
    "accuracy = accuracy_score(y_test, y_pred)\n",
    "print(f'Test accuracy: {accuracy:.4f}')\n",
    "\n",
    "\n",
    "# Print detailed classification report\n",
    "print(\"Classification Report:\")\n",
    "print(classification_report(y_test, y_pred))"
   ]
  },
  {
   "cell_type": "code",
   "execution_count": 11,
   "id": "d71ab299-0d3e-4e2a-961d-f29e93a7e2bb",
   "metadata": {
    "tags": []
   },
   "outputs": [],
   "source": [
    "# fig = plt.figure(figsize=(25,20))\n",
    "# tree.plot_tree(clf, \n",
    "#                    feature_names=FEATURE_COLS,\n",
    "#                    class_names=clf.classes_,\n",
    "#                    filled=True)\n",
    "# plt.show()"
   ]
  },
  {
   "cell_type": "code",
   "execution_count": 12,
   "id": "8c970fe6-62db-4ffd-8369-530341a1753d",
   "metadata": {
    "tags": []
   },
   "outputs": [
    {
     "name": "stdout",
     "output_type": "stream",
     "text": [
      "3\n",
      "['pull_up']\n",
      "pull_up\n",
      "['jumping_jack' 'pull_up' 'push_up' 'situp' 'squat']\n",
      "[0. 1. 0. 0. 0.]\n"
     ]
    }
   ],
   "source": [
    "inst_num = 3\n",
    "y_pred = clf.predict(x_test)\n",
    "y_pred_proba = clf.predict_proba(x_test)\n",
    "print(inst_num)\n",
    "print(y_test[inst_num])\n",
    "print(y_pred[inst_num])\n",
    "print(clf.classes_)\n",
    "print(y_pred_proba[inst_num])"
   ]
  },
  {
   "cell_type": "markdown",
   "id": "1f90b3ca-46e9-4de4-85a5-1761775466aa",
   "metadata": {},
   "source": [
    "## Random Forest"
   ]
  },
  {
   "cell_type": "code",
   "execution_count": 13,
   "id": "f0209701-2598-4a8d-98d1-02244ab9581f",
   "metadata": {
    "tags": []
   },
   "outputs": [
    {
     "name": "stderr",
     "output_type": "stream",
     "text": [
      "C:\\Users\\tarek\\AppData\\Local\\Temp\\ipykernel_16464\\1472656037.py:2: DataConversionWarning: A column-vector y was passed when a 1d array was expected. Please change the shape of y to (n_samples,), for example using ravel().\n",
      "  clf.fit(x_train, y_train)\n"
     ]
    },
    {
     "data": {
      "text/html": [
       "<style>#sk-container-id-2 {color: black;background-color: white;}#sk-container-id-2 pre{padding: 0;}#sk-container-id-2 div.sk-toggleable {background-color: white;}#sk-container-id-2 label.sk-toggleable__label {cursor: pointer;display: block;width: 100%;margin-bottom: 0;padding: 0.3em;box-sizing: border-box;text-align: center;}#sk-container-id-2 label.sk-toggleable__label-arrow:before {content: \"▸\";float: left;margin-right: 0.25em;color: #696969;}#sk-container-id-2 label.sk-toggleable__label-arrow:hover:before {color: black;}#sk-container-id-2 div.sk-estimator:hover label.sk-toggleable__label-arrow:before {color: black;}#sk-container-id-2 div.sk-toggleable__content {max-height: 0;max-width: 0;overflow: hidden;text-align: left;background-color: #f0f8ff;}#sk-container-id-2 div.sk-toggleable__content pre {margin: 0.2em;color: black;border-radius: 0.25em;background-color: #f0f8ff;}#sk-container-id-2 input.sk-toggleable__control:checked~div.sk-toggleable__content {max-height: 200px;max-width: 100%;overflow: auto;}#sk-container-id-2 input.sk-toggleable__control:checked~label.sk-toggleable__label-arrow:before {content: \"▾\";}#sk-container-id-2 div.sk-estimator input.sk-toggleable__control:checked~label.sk-toggleable__label {background-color: #d4ebff;}#sk-container-id-2 div.sk-label input.sk-toggleable__control:checked~label.sk-toggleable__label {background-color: #d4ebff;}#sk-container-id-2 input.sk-hidden--visually {border: 0;clip: rect(1px 1px 1px 1px);clip: rect(1px, 1px, 1px, 1px);height: 1px;margin: -1px;overflow: hidden;padding: 0;position: absolute;width: 1px;}#sk-container-id-2 div.sk-estimator {font-family: monospace;background-color: #f0f8ff;border: 1px dotted black;border-radius: 0.25em;box-sizing: border-box;margin-bottom: 0.5em;}#sk-container-id-2 div.sk-estimator:hover {background-color: #d4ebff;}#sk-container-id-2 div.sk-parallel-item::after {content: \"\";width: 100%;border-bottom: 1px solid gray;flex-grow: 1;}#sk-container-id-2 div.sk-label:hover label.sk-toggleable__label {background-color: #d4ebff;}#sk-container-id-2 div.sk-serial::before {content: \"\";position: absolute;border-left: 1px solid gray;box-sizing: border-box;top: 0;bottom: 0;left: 50%;z-index: 0;}#sk-container-id-2 div.sk-serial {display: flex;flex-direction: column;align-items: center;background-color: white;padding-right: 0.2em;padding-left: 0.2em;position: relative;}#sk-container-id-2 div.sk-item {position: relative;z-index: 1;}#sk-container-id-2 div.sk-parallel {display: flex;align-items: stretch;justify-content: center;background-color: white;position: relative;}#sk-container-id-2 div.sk-item::before, #sk-container-id-2 div.sk-parallel-item::before {content: \"\";position: absolute;border-left: 1px solid gray;box-sizing: border-box;top: 0;bottom: 0;left: 50%;z-index: -1;}#sk-container-id-2 div.sk-parallel-item {display: flex;flex-direction: column;z-index: 1;position: relative;background-color: white;}#sk-container-id-2 div.sk-parallel-item:first-child::after {align-self: flex-end;width: 50%;}#sk-container-id-2 div.sk-parallel-item:last-child::after {align-self: flex-start;width: 50%;}#sk-container-id-2 div.sk-parallel-item:only-child::after {width: 0;}#sk-container-id-2 div.sk-dashed-wrapped {border: 1px dashed gray;margin: 0 0.4em 0.5em 0.4em;box-sizing: border-box;padding-bottom: 0.4em;background-color: white;}#sk-container-id-2 div.sk-label label {font-family: monospace;font-weight: bold;display: inline-block;line-height: 1.2em;}#sk-container-id-2 div.sk-label-container {text-align: center;}#sk-container-id-2 div.sk-container {/* jupyter's `normalize.less` sets `[hidden] { display: none; }` but bootstrap.min.css set `[hidden] { display: none !important; }` so we also need the `!important` here to be able to override the default hidden behavior on the sphinx rendered scikit-learn.org. See: https://github.com/scikit-learn/scikit-learn/issues/21755 */display: inline-block !important;position: relative;}#sk-container-id-2 div.sk-text-repr-fallback {display: none;}</style><div id=\"sk-container-id-2\" class=\"sk-top-container\"><div class=\"sk-text-repr-fallback\"><pre>RandomForestClassifier(random_state=125)</pre><b>In a Jupyter environment, please rerun this cell to show the HTML representation or trust the notebook. <br />On GitHub, the HTML representation is unable to render, please try loading this page with nbviewer.org.</b></div><div class=\"sk-container\" hidden><div class=\"sk-item\"><div class=\"sk-estimator sk-toggleable\"><input class=\"sk-toggleable__control sk-hidden--visually\" id=\"sk-estimator-id-2\" type=\"checkbox\" checked><label for=\"sk-estimator-id-2\" class=\"sk-toggleable__label sk-toggleable__label-arrow\">RandomForestClassifier</label><div class=\"sk-toggleable__content\"><pre>RandomForestClassifier(random_state=125)</pre></div></div></div></div></div>"
      ],
      "text/plain": [
       "RandomForestClassifier(random_state=125)"
      ]
     },
     "execution_count": 13,
     "metadata": {},
     "output_type": "execute_result"
    }
   ],
   "source": [
    "clf = RandomForestClassifier(random_state=RND_STATE, max_depth=None)\n",
    "clf.fit(x_train, y_train)"
   ]
  },
  {
   "cell_type": "code",
   "execution_count": 14,
   "id": "062e063c-12c8-4189-a8e3-fe19f0d43aba",
   "metadata": {
    "tags": []
   },
   "outputs": [
    {
     "name": "stdout",
     "output_type": "stream",
     "text": [
      "Test accuracy: 0.7965\n",
      "Classification Report:\n",
      "              precision    recall  f1-score   support\n",
      "\n",
      "jumping_jack       0.77      0.78      0.78      3771\n",
      "     pull_up       0.76      0.73      0.75      3798\n",
      "     push_up       0.82      0.91      0.86      3474\n",
      "       situp       0.82      0.87      0.84      3366\n",
      "       squat       0.81      0.66      0.73      2376\n",
      "\n",
      "    accuracy                           0.80     16785\n",
      "   macro avg       0.80      0.79      0.79     16785\n",
      "weighted avg       0.80      0.80      0.79     16785\n",
      "\n"
     ]
    }
   ],
   "source": [
    "y_pred = clf.predict(x_test)\n",
    "accuracy = accuracy_score(y_test, y_pred)\n",
    "print(f'Test accuracy: {accuracy:.4f}')\n",
    "\n",
    "\n",
    "# Print detailed classification report\n",
    "print(\"Classification Report:\")\n",
    "print(classification_report(y_test, y_pred))"
   ]
  },
  {
   "cell_type": "markdown",
   "id": "458055f4-074d-4fda-b3f2-bf01b8468213",
   "metadata": {},
   "source": [
    "# Retrain without any squats"
   ]
  },
  {
   "cell_type": "code",
   "execution_count": 15,
   "id": "7bd8fadc-b96c-4d94-88b7-3f42e3e2de6f",
   "metadata": {
    "tags": []
   },
   "outputs": [],
   "source": [
    "no_squat_df = full_df[full_df.ml_class != 'squat']\n",
    "x_train, x_test, y_train, y_test = train_test_split(\n",
    "   no_squat_df[FEATURE_COLS].values,\n",
    "    no_squat_df[LABEL_COLS].values, test_size=0.2,\n",
    "    random_state=RND_STATE)"
   ]
  },
  {
   "cell_type": "code",
   "execution_count": 16,
   "id": "d32c2bdb-a4d2-4457-92e7-f9285fefe1fb",
   "metadata": {
    "tags": []
   },
   "outputs": [
    {
     "name": "stderr",
     "output_type": "stream",
     "text": [
      "C:\\Users\\tarek\\AppData\\Local\\Temp\\ipykernel_16464\\1472656037.py:2: DataConversionWarning: A column-vector y was passed when a 1d array was expected. Please change the shape of y to (n_samples,), for example using ravel().\n",
      "  clf.fit(x_train, y_train)\n"
     ]
    },
    {
     "data": {
      "text/html": [
       "<style>#sk-container-id-3 {color: black;background-color: white;}#sk-container-id-3 pre{padding: 0;}#sk-container-id-3 div.sk-toggleable {background-color: white;}#sk-container-id-3 label.sk-toggleable__label {cursor: pointer;display: block;width: 100%;margin-bottom: 0;padding: 0.3em;box-sizing: border-box;text-align: center;}#sk-container-id-3 label.sk-toggleable__label-arrow:before {content: \"▸\";float: left;margin-right: 0.25em;color: #696969;}#sk-container-id-3 label.sk-toggleable__label-arrow:hover:before {color: black;}#sk-container-id-3 div.sk-estimator:hover label.sk-toggleable__label-arrow:before {color: black;}#sk-container-id-3 div.sk-toggleable__content {max-height: 0;max-width: 0;overflow: hidden;text-align: left;background-color: #f0f8ff;}#sk-container-id-3 div.sk-toggleable__content pre {margin: 0.2em;color: black;border-radius: 0.25em;background-color: #f0f8ff;}#sk-container-id-3 input.sk-toggleable__control:checked~div.sk-toggleable__content {max-height: 200px;max-width: 100%;overflow: auto;}#sk-container-id-3 input.sk-toggleable__control:checked~label.sk-toggleable__label-arrow:before {content: \"▾\";}#sk-container-id-3 div.sk-estimator input.sk-toggleable__control:checked~label.sk-toggleable__label {background-color: #d4ebff;}#sk-container-id-3 div.sk-label input.sk-toggleable__control:checked~label.sk-toggleable__label {background-color: #d4ebff;}#sk-container-id-3 input.sk-hidden--visually {border: 0;clip: rect(1px 1px 1px 1px);clip: rect(1px, 1px, 1px, 1px);height: 1px;margin: -1px;overflow: hidden;padding: 0;position: absolute;width: 1px;}#sk-container-id-3 div.sk-estimator {font-family: monospace;background-color: #f0f8ff;border: 1px dotted black;border-radius: 0.25em;box-sizing: border-box;margin-bottom: 0.5em;}#sk-container-id-3 div.sk-estimator:hover {background-color: #d4ebff;}#sk-container-id-3 div.sk-parallel-item::after {content: \"\";width: 100%;border-bottom: 1px solid gray;flex-grow: 1;}#sk-container-id-3 div.sk-label:hover label.sk-toggleable__label {background-color: #d4ebff;}#sk-container-id-3 div.sk-serial::before {content: \"\";position: absolute;border-left: 1px solid gray;box-sizing: border-box;top: 0;bottom: 0;left: 50%;z-index: 0;}#sk-container-id-3 div.sk-serial {display: flex;flex-direction: column;align-items: center;background-color: white;padding-right: 0.2em;padding-left: 0.2em;position: relative;}#sk-container-id-3 div.sk-item {position: relative;z-index: 1;}#sk-container-id-3 div.sk-parallel {display: flex;align-items: stretch;justify-content: center;background-color: white;position: relative;}#sk-container-id-3 div.sk-item::before, #sk-container-id-3 div.sk-parallel-item::before {content: \"\";position: absolute;border-left: 1px solid gray;box-sizing: border-box;top: 0;bottom: 0;left: 50%;z-index: -1;}#sk-container-id-3 div.sk-parallel-item {display: flex;flex-direction: column;z-index: 1;position: relative;background-color: white;}#sk-container-id-3 div.sk-parallel-item:first-child::after {align-self: flex-end;width: 50%;}#sk-container-id-3 div.sk-parallel-item:last-child::after {align-self: flex-start;width: 50%;}#sk-container-id-3 div.sk-parallel-item:only-child::after {width: 0;}#sk-container-id-3 div.sk-dashed-wrapped {border: 1px dashed gray;margin: 0 0.4em 0.5em 0.4em;box-sizing: border-box;padding-bottom: 0.4em;background-color: white;}#sk-container-id-3 div.sk-label label {font-family: monospace;font-weight: bold;display: inline-block;line-height: 1.2em;}#sk-container-id-3 div.sk-label-container {text-align: center;}#sk-container-id-3 div.sk-container {/* jupyter's `normalize.less` sets `[hidden] { display: none; }` but bootstrap.min.css set `[hidden] { display: none !important; }` so we also need the `!important` here to be able to override the default hidden behavior on the sphinx rendered scikit-learn.org. See: https://github.com/scikit-learn/scikit-learn/issues/21755 */display: inline-block !important;position: relative;}#sk-container-id-3 div.sk-text-repr-fallback {display: none;}</style><div id=\"sk-container-id-3\" class=\"sk-top-container\"><div class=\"sk-text-repr-fallback\"><pre>RandomForestClassifier(random_state=125)</pre><b>In a Jupyter environment, please rerun this cell to show the HTML representation or trust the notebook. <br />On GitHub, the HTML representation is unable to render, please try loading this page with nbviewer.org.</b></div><div class=\"sk-container\" hidden><div class=\"sk-item\"><div class=\"sk-estimator sk-toggleable\"><input class=\"sk-toggleable__control sk-hidden--visually\" id=\"sk-estimator-id-3\" type=\"checkbox\" checked><label for=\"sk-estimator-id-3\" class=\"sk-toggleable__label sk-toggleable__label-arrow\">RandomForestClassifier</label><div class=\"sk-toggleable__content\"><pre>RandomForestClassifier(random_state=125)</pre></div></div></div></div></div>"
      ],
      "text/plain": [
       "RandomForestClassifier(random_state=125)"
      ]
     },
     "execution_count": 16,
     "metadata": {},
     "output_type": "execute_result"
    }
   ],
   "source": [
    "clf = RandomForestClassifier(random_state=RND_STATE, max_depth=None)\n",
    "clf.fit(x_train, y_train)"
   ]
  },
  {
   "cell_type": "code",
   "execution_count": 17,
   "id": "03f65da5-d157-489b-9061-9aab1936445f",
   "metadata": {
    "tags": []
   },
   "outputs": [
    {
     "name": "stdout",
     "output_type": "stream",
     "text": [
      "Test accuracy: 0.8274\n",
      "Classification Report:\n",
      "              precision    recall  f1-score   support\n",
      "\n",
      "jumping_jack       0.80      0.80      0.80      3709\n",
      "     pull_up       0.80      0.74      0.77      3921\n",
      "     push_up       0.85      0.91      0.88      3431\n",
      "       situp       0.86      0.88      0.87      3360\n",
      "\n",
      "    accuracy                           0.83     14421\n",
      "   macro avg       0.83      0.83      0.83     14421\n",
      "weighted avg       0.83      0.83      0.83     14421\n",
      "\n"
     ]
    }
   ],
   "source": [
    "y_pred = clf.predict(x_test)\n",
    "accuracy = accuracy_score(y_test, y_pred)\n",
    "print(f'Test accuracy: {accuracy:.4f}')\n",
    "\n",
    "\n",
    "# Print detailed classification report\n",
    "print(\"Classification Report:\")\n",
    "print(classification_report(y_test, y_pred))"
   ]
  },
  {
   "cell_type": "code",
   "execution_count": 18,
   "id": "fb7586e0-4564-4c4e-81c0-b6104200869e",
   "metadata": {
    "tags": []
   },
   "outputs": [],
   "source": [
    "test_instance_df = pd.read_csv('../data/Image_angles_download.csv')\n",
    "test_instance_df = test_instance_df[FEATURE_COLS]"
   ]
  },
  {
   "cell_type": "code",
   "execution_count": 20,
   "id": "e1b3581b-f491-4dd7-aee7-c61f25263ef9",
   "metadata": {
    "tags": []
   },
   "outputs": [
    {
     "name": "stdout",
     "output_type": "stream",
     "text": [
      "0\n",
      "push_up\n",
      "['push_up']\n",
      "['jumping_jack' 'pull_up' 'push_up' 'situp']\n",
      "[0.01 0.03 0.96 0.  ]\n"
     ]
    }
   ],
   "source": [
    "inst_num = 0\n",
    "actual_label = 'push_up'\n",
    "y_pred = clf.predict(test_instance_df.values)\n",
    "y_pred_proba = clf.predict_proba(test_instance_df.values)\n",
    "print(inst_num)\n",
    "print(actual_label)\n",
    "print(y_pred)\n",
    "print(clf.classes_)\n",
    "print(y_pred_proba[0])"
   ]
  }
 ],
 "metadata": {
  "kernelspec": {
   "display_name": "C:\\Users\\gaith\\Desktop\\Ash\\Python\\CNN\\env",
   "language": "python",
   "name": "python3"
  },
  "language_info": {
   "codemirror_mode": {
    "name": "ipython",
    "version": 3
   },
   "file_extension": ".py",
   "mimetype": "text/x-python",
   "name": "python",
   "nbconvert_exporter": "python",
   "pygments_lexer": "ipython3",
   "version": "3.11.3"
  }
 },
 "nbformat": 4,
 "nbformat_minor": 5
}
